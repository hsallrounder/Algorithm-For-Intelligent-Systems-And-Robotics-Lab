{
  "nbformat": 4,
  "nbformat_minor": 0,
  "metadata": {
    "colab": {
      "provenance": [],
      "authorship_tag": "ABX9TyMMPimFjiB283ipTWqu6pgq",
      "include_colab_link": true
    },
    "kernelspec": {
      "name": "python3",
      "display_name": "Python 3"
    },
    "language_info": {
      "name": "python"
    }
  },
  "cells": [
    {
      "cell_type": "markdown",
      "metadata": {
        "id": "view-in-github",
        "colab_type": "text"
      },
      "source": [
        "<a href=\"https://colab.research.google.com/github/hsallrounder/Algorithm-For-Intelligent-Systems-And-Robotics-Lab/blob/master/Gekko_Parctice.ipynb\" target=\"_parent\"><img src=\"https://colab.research.google.com/assets/colab-badge.svg\" alt=\"Open In Colab\"/></a>"
      ]
    },
    {
      "cell_type": "markdown",
      "source": [
        "Solve the folloeing differential equation:\n"
      ],
      "metadata": {
        "id": "L9oJuA4_Rjut"
      }
    },
    {
      "cell_type": "code",
      "source": [
        "!pip install gekko"
      ],
      "metadata": {
        "colab": {
          "base_uri": "https://localhost:8080/"
        },
        "id": "W8mxcWDXNEBU",
        "outputId": "eee9ca96-c19c-4af7-dfa4-2faf5c2ca78b"
      },
      "execution_count": null,
      "outputs": [
        {
          "output_type": "stream",
          "name": "stdout",
          "text": [
            "Requirement already satisfied: gekko in /usr/local/lib/python3.7/dist-packages (1.0.2)\n",
            "Requirement already satisfied: numpy>=1.8 in /usr/local/lib/python3.7/dist-packages (from gekko) (1.21.5)\n"
          ]
        }
      ]
    },
    {
      "cell_type": "code",
      "source": [
        "import numpy as np\n",
        "from gekko import GEKKO\n",
        "import matplotlib.pyplot as plt\n",
        "%matplotlib inline"
      ],
      "metadata": {
        "id": "GcHIB5a_UThk"
      },
      "execution_count": null,
      "outputs": []
    },
    {
      "cell_type": "code",
      "execution_count": null,
      "metadata": {
        "id": "WzbaVEPKM7bg"
      },
      "outputs": [],
      "source": [
        "tm=np.linspace(0,20,100)\n",
        "m=GEKKO(remote=False)\n",
        "m.time=tm\n",
        "k=10\n",
        "y=m.Var(value = 5.0)\n",
        "dy=m.Var(value = 0.0)\n",
        "ddy= m.Var(value = -5/10)\n",
        "t=m.Param(value=tm)\n",
        "m.Equation([\n",
        "            k*y.dt()==-(t**3)*y,\n",
        "            dy == y.dt(),\n",
        "            ddy == dy.dt()\n",
        "            ])\n",
        "m.options.IMODE=4\n",
        "m.solve(disp=False)"
      ]
    },
    {
      "cell_type": "code",
      "source": [
        "plt.figure()\n",
        "plt.plot(m.time,y.value, label = 'y vs t')\n",
        "plt.plot(m.time,dy.value, label  = 'dy vs t')\n",
        "plt.plot(m.time,ddy.value, label  = 'ddy vs t')\n",
        "plt.xlabel('t')\n",
        "plt.legend()\n",
        "plt.show()"
      ],
      "metadata": {
        "colab": {
          "base_uri": "https://localhost:8080/",
          "height": 279
        },
        "id": "_sTTB8opNLkz",
        "outputId": "34d479e5-e0be-4d53-a464-1547e37ebe5b"
      },
      "execution_count": null,
      "outputs": [
        {
          "output_type": "display_data",
          "data": {
            "text/plain": [
              "<Figure size 432x288 with 1 Axes>"
            ],
            "image/png": "[encoded data removed]"
          },
          "metadata": {
            "needs_background": "light"
          }
        }
      ]
    },
    {
      "cell_type": "markdown",
      "source": [
        "Minimize The Function Y, Y = X1.84 (X1 + X2 + X3) + X3\n",
        "Subject To The Following Constraints:\n",
        "x1.x2.(x1+x2+x3)+x3 >= 25\n",
        "x1^2 + x2^2 + x3^3 + x4^2 = 40\n",
        "1 <= x1,x2,x3,x4 <= 5"
      ],
      "metadata": {
        "id": "lLK9dZIUVyrz"
      }
    },
    {
      "cell_type": "code",
      "source": [
        "m=GEKKO()\n",
        "x1=m.Var(value=1,lb=1,ub=5)\n",
        "x2=m.Var(value=5,lb=1,ub=5)\n",
        "x3=m.Var(value=5,lb=1,ub=5)\n",
        "x4=m.Var(value=1,lb=1,ub=5)\n",
        "\n",
        "m.Equation(x1*x2*x3*x4>=25)\n",
        "m.Equation(x1**2+x2**2+x3**2+x4**2==40)\n",
        "\n",
        "m.Minimize(x1*x4*(x1+x2+x3)+x3)\n",
        "\n",
        "m.options.IMODE=4\n",
        "m.options.SOLVER=1\n",
        "\n",
        "m.solve(disp=False)\n",
        "\n",
        "print(m.options.OBJFCNVAL)"
      ],
      "metadata": {
        "colab": {
          "base_uri": "https://localhost:8080/",
          "height": 408
        },
        "id": "VzocAxUJWerk",
        "outputId": "59133daa-244f-49f9-b408-a0bc0689957b"
      },
      "execution_count": null,
      "outputs": [
        {
          "output_type": "error",
          "ename": "Exception",
          "evalue": "ignored",
          "traceback": [
            "\u001b[0;31m---------------------------------------------------------------------------\u001b[0m",
            "\u001b[0;31mException\u001b[0m                                 Traceback (most recent call last)",
            "\u001b[0;32m<ipython-input-11-2f867b44e3c1>\u001b[0m in \u001b[0;36m<module>\u001b[0;34m()\u001b[0m\n\u001b[1;32m     13\u001b[0m \u001b[0mm1\u001b[0m\u001b[0;34m.\u001b[0m\u001b[0moptions\u001b[0m\u001b[0;34m.\u001b[0m\u001b[0mSOLVER\u001b[0m\u001b[0;34m=\u001b[0m\u001b[0;36m1\u001b[0m\u001b[0;34m\u001b[0m\u001b[0;34m\u001b[0m\u001b[0m\n\u001b[1;32m     14\u001b[0m \u001b[0;34m\u001b[0m\u001b[0m\n\u001b[0;32m---> 15\u001b[0;31m \u001b[0mm1\u001b[0m\u001b[0;34m.\u001b[0m\u001b[0msolve\u001b[0m\u001b[0;34m(\u001b[0m\u001b[0mdisp\u001b[0m\u001b[0;34m=\u001b[0m\u001b[0;32mFalse\u001b[0m\u001b[0;34m)\u001b[0m\u001b[0;34m\u001b[0m\u001b[0;34m\u001b[0m\u001b[0m\n\u001b[0m\u001b[1;32m     16\u001b[0m \u001b[0;34m\u001b[0m\u001b[0m\n\u001b[1;32m     17\u001b[0m \u001b[0mprint\u001b[0m\u001b[0;34m(\u001b[0m\u001b[0mm1\u001b[0m\u001b[0;34m.\u001b[0m\u001b[0moptions\u001b[0m\u001b[0;34m.\u001b[0m\u001b[0mOBJFCNVAL\u001b[0m\u001b[0;34m)\u001b[0m\u001b[0;34m\u001b[0m\u001b[0;34m\u001b[0m\u001b[0m\n",
            "\u001b[0;32m/usr/local/lib/python3.7/dist-packages/gekko/gekko.py\u001b[0m in \u001b[0;36msolve\u001b[0;34m(self, disp, debug, GUI, **kwargs)\u001b[0m\n\u001b[1;32m   2183\u001b[0m             \u001b[0;31m#print APM error message and die\u001b[0m\u001b[0;34m\u001b[0m\u001b[0;34m\u001b[0m\u001b[0;34m\u001b[0m\u001b[0m\n\u001b[1;32m   2184\u001b[0m             \u001b[0;32mif\u001b[0m \u001b[0;34m(\u001b[0m\u001b[0mdebug\u001b[0m \u001b[0;34m>=\u001b[0m \u001b[0;36m1\u001b[0m\u001b[0;34m)\u001b[0m \u001b[0;32mand\u001b[0m \u001b[0;34m(\u001b[0m\u001b[0;34m'@error'\u001b[0m \u001b[0;32min\u001b[0m \u001b[0mresponse\u001b[0m\u001b[0;34m)\u001b[0m\u001b[0;34m:\u001b[0m\u001b[0;34m\u001b[0m\u001b[0;34m\u001b[0m\u001b[0m\n\u001b[0;32m-> 2185\u001b[0;31m                 \u001b[0;32mraise\u001b[0m \u001b[0mException\u001b[0m\u001b[0;34m(\u001b[0m\u001b[0mresponse\u001b[0m\u001b[0;34m)\u001b[0m\u001b[0;34m\u001b[0m\u001b[0;34m\u001b[0m\u001b[0m\n\u001b[0m\u001b[1;32m   2186\u001b[0m \u001b[0;34m\u001b[0m\u001b[0m\n\u001b[1;32m   2187\u001b[0m             \u001b[0;31m#load results\u001b[0m\u001b[0;34m\u001b[0m\u001b[0;34m\u001b[0m\u001b[0;34m\u001b[0m\u001b[0m\n",
            "\u001b[0;31mException\u001b[0m:  @error: Insufficient Data\n CSV Read Error  : number of data rows must be >= 2 for dynamic problems\n Data Points Identified:           1\n STOPPING. . .\n"
          ]
        }
      ]
    }
  ]
}