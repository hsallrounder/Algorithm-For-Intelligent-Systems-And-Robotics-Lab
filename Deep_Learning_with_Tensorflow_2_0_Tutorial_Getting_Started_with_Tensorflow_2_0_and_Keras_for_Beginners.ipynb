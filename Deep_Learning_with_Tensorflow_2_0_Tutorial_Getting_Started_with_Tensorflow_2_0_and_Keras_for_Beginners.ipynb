{
  "cells": [
    {
      "cell_type": "markdown",
      "metadata": {
        "id": "view-in-github",
        "colab_type": "text"
      },
      "source": [
        "<a href=\"https://colab.research.google.com/github/hsallrounder/Algorithm-For-Intelligent-Systems-And-Robotics-Lab/blob/master/Deep_Learning_with_Tensorflow_2_0_Tutorial_Getting_Started_with_Tensorflow_2_0_and_Keras_for_Beginners.ipynb\" target=\"_parent\"><img src=\"https://colab.research.google.com/assets/colab-badge.svg\" alt=\"Open In Colab\"/></a>"
      ]
    },
    {
      "cell_type": "markdown",
      "metadata": {
        "id": "MhoQ0WE77laV"
      },
      "source": [
        "## Deep Learning with Tensorflow 2.0 Tutorial - Getting Started with Tensorflow 2.0 and Keras for Beginners"
      ]
    },
    {
      "cell_type": "markdown",
      "metadata": {
        "id": "TXrPk3J8Ut9W"
      },
      "source": [
        "### What is Tensorflow?"
      ]
    },
    {
      "cell_type": "code",
      "source": [],
      "metadata": {
        "id": "WNlieMVTUy6y"
      },
      "execution_count": null,
      "outputs": []
    },
    {
      "cell_type": "markdown",
      "metadata": {
        "id": "3CgvZMhWUt9Y"
      },
      "source": [
        "Tensorflow architecture works in three parts:\n",
        "\n",
        "- Preprocessing the data\n",
        "- Build the model\n",
        "- Train and estimate the model"
      ]
    },
    {
      "cell_type": "markdown",
      "metadata": {
        "id": "0MXtwqRxUt9a"
      },
      "source": [
        "I am assuming that you know a little about the machine learning and deep learning"
      ]
    },
    {
      "cell_type": "markdown",
      "metadata": {
        "id": "P8r34X-oUt9b"
      },
      "source": [
        "### Why Every Data Scientist Learn Tensorflow 2.x not Tensorflow 1.x"
      ]
    },
    {
      "cell_type": "markdown",
      "metadata": {
        "id": "CN7luDVsUt9c"
      },
      "source": [
        "- API Cleanup\n",
        "- Eager execution\n",
        "- No more globals\n",
        "- Functions, not sessions (session.run())\n",
        "- Use Keras layers and models to manage variables\n",
        "- It is faster\n",
        "- It takes less space\n",
        "- More consistent\n",
        "- and many more, watch Google I/O https://www.youtube.com/watch?v=lEljKc9ZtU8\n",
        "- Github Link: https://github.com/tensorflow/tensorflow/releases"
      ]
    },
    {
      "cell_type": "markdown",
      "metadata": {
        "id": "5GSVlaFTUt9e"
      },
      "source": [
        " ##### !pip install tensorflow==2.0.0-rc0 \n",
        " ##### !pip install tensorflow-gpu==2.0.0-rc0"
      ]
    },
    {
      "cell_type": "markdown",
      "metadata": {
        "id": "yR0EdgrLCaWR"
      },
      "source": [
        "## Import the Fashion MNIST dataset"
      ]
    },
    {
      "cell_type": "markdown",
      "metadata": {
        "id": "DLdCchMdCaWQ"
      },
      "source": [
        "[Fashion MNIST](https://github.com/zalandoresearch/fashion-mnist) dataset contains 70,000 grayscale images in 10 categories. The images show individual articles of clothing at low resolution (28 by 28 pixels), as seen here:\n",
        "\n",
        "<table>\n",
        "  <tr><td>\n",
        "    <img src=\"https://tensorflow.org/images/fashion-mnist-sprite.png\"\n",
        "         alt=\"Fashion MNIST sprite\"  width=\"600\">\n",
        "  </td></tr>\n",
        "  <tr><td align=\"center\">\n",
        "    <b>Figure 1.</b> <a href=\"https://github.com/zalandoresearch/fashion-mnist\">Fashion-MNIST samples</a> (by Zalando, MIT License).<br/>&nbsp;\n",
        "  </td></tr>\n",
        "</table>"
      ]
    },
    {
      "cell_type": "code",
      "execution_count": 1,
      "metadata": {
        "id": "kFArvsggUt9k"
      },
      "outputs": [],
      "source": [
        "import tensorflow as tf\n",
        "from tensorflow import keras"
      ]
    },
    {
      "cell_type": "code",
      "execution_count": 2,
      "metadata": {
        "id": "TWI6-r7RUt9n",
        "colab": {
          "base_uri": "https://localhost:8080/"
        },
        "outputId": "8e6aa2f9-5bc0-4fbc-c0c3-9b14dcc43c11"
      },
      "outputs": [
        {
          "output_type": "stream",
          "name": "stdout",
          "text": [
            "2.8.2\n"
          ]
        }
      ],
      "source": [
        "print(tf.__version__)"
      ]
    },
    {
      "cell_type": "code",
      "execution_count": 3,
      "metadata": {
        "id": "5aD0UlYlUt9o"
      },
      "outputs": [],
      "source": [
        "import numpy as np\n",
        "import pandas as pd\n",
        "import matplotlib.pyplot as plt"
      ]
    },
    {
      "cell_type": "code",
      "execution_count": 4,
      "metadata": {
        "id": "pikWNiW5Ut9p"
      },
      "outputs": [],
      "source": [
        "mnist = keras.datasets.fashion_mnist"
      ]
    },
    {
      "cell_type": "code",
      "execution_count": 5,
      "metadata": {
        "id": "C3wvFJ8IUt9q",
        "colab": {
          "base_uri": "https://localhost:8080/"
        },
        "outputId": "107ba65b-a69d-4af8-9590-1a52b337de8c"
      },
      "outputs": [
        {
          "output_type": "execute_result",
          "data": {
            "text/plain": [
              "module"
            ]
          },
          "metadata": {},
          "execution_count": 5
        }
      ],
      "source": [
        "type(mnist)"
      ]
    },
    {
      "cell_type": "code",
      "execution_count": 6,
      "metadata": {
        "id": "gwMXZorYUt9r",
        "colab": {
          "base_uri": "https://localhost:8080/"
        },
        "outputId": "cb213e16-2993-4a68-f8bc-92e6db496b6c"
      },
      "outputs": [
        {
          "output_type": "stream",
          "name": "stdout",
          "text": [
            "Downloading data from https://storage.googleapis.com/tensorflow/tf-keras-datasets/train-labels-idx1-ubyte.gz\n",
            "32768/29515 [=================================] - 0s 0us/step\n",
            "40960/29515 [=========================================] - 0s 0us/step\n",
            "Downloading data from https://storage.googleapis.com/tensorflow/tf-keras-datasets/train-images-idx3-ubyte.gz\n",
            "26427392/26421880 [==============================] - 0s 0us/step\n",
            "26435584/26421880 [==============================] - 0s 0us/step\n",
            "Downloading data from https://storage.googleapis.com/tensorflow/tf-keras-datasets/t10k-labels-idx1-ubyte.gz\n",
            "16384/5148 [===============================================================================================] - 0s 0us/step\n",
            "Downloading data from https://storage.googleapis.com/tensorflow/tf-keras-datasets/t10k-images-idx3-ubyte.gz\n",
            "4423680/4422102 [==============================] - 0s 0us/step\n",
            "4431872/4422102 [==============================] - 0s 0us/step\n"
          ]
        }
      ],
      "source": [
        "(X_train, y_train), (X_test, y_test) = mnist.load_data()"
      ]
    },
    {
      "cell_type": "code",
      "execution_count": 7,
      "metadata": {
        "id": "0ksg7XwtUt9s",
        "colab": {
          "base_uri": "https://localhost:8080/"
        },
        "outputId": "b834f28c-334a-49e7-8bef-9698bfa9e2d8"
      },
      "outputs": [
        {
          "output_type": "execute_result",
          "data": {
            "text/plain": [
              "((60000, 28, 28), (60000,))"
            ]
          },
          "metadata": {},
          "execution_count": 7
        }
      ],
      "source": [
        "X_train.shape, y_train.shape"
      ]
    },
    {
      "cell_type": "code",
      "execution_count": 8,
      "metadata": {
        "id": "ydnmsKpnUt9t",
        "colab": {
          "base_uri": "https://localhost:8080/"
        },
        "outputId": "c8a92108-5d2e-4697-ad40-c0c63ee82b3a"
      },
      "outputs": [
        {
          "output_type": "execute_result",
          "data": {
            "text/plain": [
              "255"
            ]
          },
          "metadata": {},
          "execution_count": 8
        }
      ],
      "source": [
        "np.max(X_train)"
      ]
    },
    {
      "cell_type": "code",
      "execution_count": 9,
      "metadata": {
        "id": "ty4Y6yWoUt9u",
        "colab": {
          "base_uri": "https://localhost:8080/"
        },
        "outputId": "0659d857-7d18-4a0d-a1ee-81a386dff079"
      },
      "outputs": [
        {
          "output_type": "execute_result",
          "data": {
            "text/plain": [
              "72.94035223214286"
            ]
          },
          "metadata": {},
          "execution_count": 9
        }
      ],
      "source": [
        "np.mean(X_train)"
      ]
    },
    {
      "cell_type": "code",
      "execution_count": 10,
      "metadata": {
        "id": "9XVvk-Q5Ut9u",
        "colab": {
          "base_uri": "https://localhost:8080/"
        },
        "outputId": "3c2593d4-4c57-48ee-988d-4f0f09f3ca79"
      },
      "outputs": [
        {
          "output_type": "execute_result",
          "data": {
            "text/plain": [
              "array([9, 0, 0, ..., 3, 0, 5], dtype=uint8)"
            ]
          },
          "metadata": {},
          "execution_count": 10
        }
      ],
      "source": [
        "y_train"
      ]
    },
    {
      "cell_type": "code",
      "execution_count": 11,
      "metadata": {
        "id": "UAexm50KUt9v"
      },
      "outputs": [],
      "source": [
        "class_names = ['top', 'trouser', 'pullover', 'dress', 'coat', 'sandal', 'shirt', 'sneaker', 'bag', 'ankle boot']"
      ]
    },
    {
      "cell_type": "markdown",
      "metadata": {
        "id": "eaBIp5NvUt9w"
      },
      "source": [
        "#### Data Exploration"
      ]
    },
    {
      "cell_type": "code",
      "execution_count": 12,
      "metadata": {
        "id": "JOg8cJKKUt9x",
        "colab": {
          "base_uri": "https://localhost:8080/"
        },
        "outputId": "91f47f23-bc93-42a7-8334-92d27db47a3c"
      },
      "outputs": [
        {
          "output_type": "execute_result",
          "data": {
            "text/plain": [
              "(60000, 28, 28)"
            ]
          },
          "metadata": {},
          "execution_count": 12
        }
      ],
      "source": [
        "X_train.shape"
      ]
    },
    {
      "cell_type": "code",
      "execution_count": 13,
      "metadata": {
        "id": "VciTfGrCUt9x",
        "colab": {
          "base_uri": "https://localhost:8080/"
        },
        "outputId": "ebadc976-893b-4e21-c6a3-977ab66da919"
      },
      "outputs": [
        {
          "output_type": "execute_result",
          "data": {
            "text/plain": [
              "(10000, 28, 28)"
            ]
          },
          "metadata": {},
          "execution_count": 13
        }
      ],
      "source": [
        "X_test.shape"
      ]
    },
    {
      "cell_type": "code",
      "execution_count": 14,
      "metadata": {
        "id": "g2PNVgj1Ut9y",
        "colab": {
          "base_uri": "https://localhost:8080/",
          "height": 282
        },
        "outputId": "567fa434-5f98-414c-940d-5672c3bc1bb0"
      },
      "outputs": [
        {
          "output_type": "execute_result",
          "data": {
            "text/plain": [
              "<matplotlib.colorbar.Colorbar at 0x7fac7be44e10>"
            ]
          },
          "metadata": {},
          "execution_count": 14
        },
        {
          "output_type": "display_data",
          "data": {
            "text/plain": [
              "<Figure size 432x288 with 2 Axes>"
            ],
            "image/png": "[encoded data removed]"
          },
          "metadata": {
            "needs_background": "light"
          }
        }
      ],
      "source": [
        "plt.figure()\n",
        "plt.imshow(X_train[1])\n",
        "plt.colorbar()"
      ]
    },
    {
      "cell_type": "code",
      "execution_count": 15,
      "metadata": {
        "id": "tavXmJC_Ut9z",
        "colab": {
          "base_uri": "https://localhost:8080/"
        },
        "outputId": "00fab23c-c02f-4fac-e886-5ab84c61d6e1"
      },
      "outputs": [
        {
          "output_type": "execute_result",
          "data": {
            "text/plain": [
              "array([9, 0, 0, ..., 3, 0, 5], dtype=uint8)"
            ]
          },
          "metadata": {},
          "execution_count": 15
        }
      ],
      "source": [
        "y_train"
      ]
    },
    {
      "cell_type": "code",
      "execution_count": 16,
      "metadata": {
        "id": "hxhtQWXFUt9z"
      },
      "outputs": [],
      "source": [
        "X_train = X_train/255.0"
      ]
    },
    {
      "cell_type": "code",
      "execution_count": 17,
      "metadata": {
        "id": "spiLk8DZUt9z"
      },
      "outputs": [],
      "source": [
        "X_test = X_test/255.0"
      ]
    },
    {
      "cell_type": "code",
      "execution_count": 18,
      "metadata": {
        "id": "cQw3_blrUt90",
        "colab": {
          "base_uri": "https://localhost:8080/",
          "height": 286
        },
        "outputId": "a2b868f1-7bcf-4ae7-bb45-c9623d9e850a"
      },
      "outputs": [
        {
          "output_type": "execute_result",
          "data": {
            "text/plain": [
              "<matplotlib.colorbar.Colorbar at 0x7fac7b891ed0>"
            ]
          },
          "metadata": {},
          "execution_count": 18
        },
        {
          "output_type": "display_data",
          "data": {
            "text/plain": [
              "<Figure size 432x288 with 2 Axes>"
            ],
            "image/png": "[encoded data removed]"
          },
          "metadata": {
            "needs_background": "light"
          }
        }
      ],
      "source": [
        "plt.figure()\n",
        "plt.imshow(X_train[1])\n",
        "plt.colorbar()"
      ]
    },
    {
      "cell_type": "markdown",
      "metadata": {
        "id": "pfHOUIRKUt90"
      },
      "source": [
        "### Build the model with TF 2.0 "
      ]
    },
    {
      "cell_type": "code",
      "execution_count": 19,
      "metadata": {
        "id": "u8XVbcU8Ut90"
      },
      "outputs": [],
      "source": [
        "from tensorflow.keras import Sequential\n",
        "from tensorflow.keras.layers import Flatten, Dense\n",
        "from tensorflow.keras.layers import Flatten, Dense,Conv2D, MaxPool2D, Dropout"
      ]
    },
    {
      "cell_type": "code",
      "execution_count": 20,
      "metadata": {
        "id": "xdtiyEw-Ut90"
      },
      "outputs": [],
      "source": [
        "model = Sequential()\n",
        "model.add(Conv2D(filters=32, kernel_size=(3,3), padding='same', activation='relu', input_shape=[28,28,1]))\n",
        "model.add(MaxPool2D(pool_size=(2,2), strides=2, padding='valid'))\n",
        "#model.add(Dropout(0.5))\n",
        "model.add(Flatten(input_shape = (28, 28)))\n",
        "model.add(Dense(128, activation = 'relu'))\n",
        "#model.add(Dense(128, activation = 'relu'))\n",
        "model.add(Dense(10, activation = 'softmax',kernel_regularizer='l2'))\n",
        "#for binary output we use sigmoid function"
      ]
    },
    {
      "cell_type": "code",
      "execution_count": 21,
      "metadata": {
        "id": "jveoEZKhUt91",
        "colab": {
          "base_uri": "https://localhost:8080/"
        },
        "outputId": "ae15f6d7-6e17-49a3-ff63-fe54f4bed9bd"
      },
      "outputs": [
        {
          "output_type": "stream",
          "name": "stdout",
          "text": [
            "Model: \"sequential\"\n",
            "_________________________________________________________________\n",
            " Layer (type)                Output Shape              Param #   \n",
            "=================================================================\n",
            " conv2d (Conv2D)             (None, 28, 28, 32)        320       \n",
            "                                                                 \n",
            " max_pooling2d (MaxPooling2D  (None, 14, 14, 32)       0         \n",
            " )                                                               \n",
            "                                                                 \n",
            " flatten (Flatten)           (None, 6272)              0         \n",
            "                                                                 \n",
            " dense (Dense)               (None, 128)               802944    \n",
            "                                                                 \n",
            " dense_1 (Dense)             (None, 10)                1290      \n",
            "                                                                 \n",
            "=================================================================\n",
            "Total params: 804,554\n",
            "Trainable params: 804,554\n",
            "Non-trainable params: 0\n",
            "_________________________________________________________________\n"
          ]
        }
      ],
      "source": [
        "model.summary()"
      ]
    },
    {
      "cell_type": "markdown",
      "metadata": {
        "id": "H0Yg0Th0Ut91"
      },
      "source": [
        "#### model compilation\n",
        "- Loss Function\n",
        "- Optimizer\n",
        "- Metrics"
      ]
    },
    {
      "cell_type": "code",
      "source": [],
      "metadata": {
        "id": "jzF_eRpbluwg"
      },
      "execution_count": 21,
      "outputs": []
    },
    {
      "cell_type": "code",
      "execution_count": 22,
      "metadata": {
        "id": "QTnxwFcOUt91"
      },
      "outputs": [],
      "source": [
        "model.compile(optimizer='adam',loss='sparse_categorical_crossentropy', metrics = ['sparse_categorical_accuracy'])\n",
        "#here adam is a gradient descent optimizer"
      ]
    },
    {
      "cell_type": "code",
      "execution_count": 23,
      "metadata": {
        "id": "9YDsaG3XUt92",
        "colab": {
          "base_uri": "https://localhost:8080/"
        },
        "outputId": "cdb33a21-59fc-477f-cdd1-a276a4baa8f0"
      },
      "outputs": [
        {
          "output_type": "stream",
          "name": "stdout",
          "text": [
            "Epoch 1/10\n",
            "1875/1875 [==============================] - 18s 3ms/step - loss: 0.4659 - sparse_categorical_accuracy: 0.8606 - val_loss: 0.3598 - val_sparse_categorical_accuracy: 0.8850\n",
            "Epoch 2/10\n",
            "1875/1875 [==============================] - 5s 3ms/step - loss: 0.3129 - sparse_categorical_accuracy: 0.9000 - val_loss: 0.3181 - val_sparse_categorical_accuracy: 0.8949\n",
            "Epoch 3/10\n",
            "1875/1875 [==============================] - 5s 3ms/step - loss: 0.2691 - sparse_categorical_accuracy: 0.9132 - val_loss: 0.3037 - val_sparse_categorical_accuracy: 0.9004\n",
            "Epoch 4/10\n",
            "1875/1875 [==============================] - 5s 3ms/step - loss: 0.2402 - sparse_categorical_accuracy: 0.9214 - val_loss: 0.2899 - val_sparse_categorical_accuracy: 0.9006\n",
            "Epoch 5/10\n",
            "1875/1875 [==============================] - 5s 3ms/step - loss: 0.2171 - sparse_categorical_accuracy: 0.9297 - val_loss: 0.2658 - val_sparse_categorical_accuracy: 0.9105\n",
            "Epoch 6/10\n",
            "1875/1875 [==============================] - 5s 3ms/step - loss: 0.1972 - sparse_categorical_accuracy: 0.9369 - val_loss: 0.2563 - val_sparse_categorical_accuracy: 0.9174\n",
            "Epoch 7/10\n",
            "1875/1875 [==============================] - 5s 3ms/step - loss: 0.1796 - sparse_categorical_accuracy: 0.9429 - val_loss: 0.2632 - val_sparse_categorical_accuracy: 0.9158\n",
            "Epoch 8/10\n",
            "1875/1875 [==============================] - 5s 3ms/step - loss: 0.1631 - sparse_categorical_accuracy: 0.9497 - val_loss: 0.2855 - val_sparse_categorical_accuracy: 0.9085\n",
            "Epoch 9/10\n",
            "1875/1875 [==============================] - 5s 3ms/step - loss: 0.1494 - sparse_categorical_accuracy: 0.9540 - val_loss: 0.2729 - val_sparse_categorical_accuracy: 0.9157\n",
            "Epoch 10/10\n",
            "1875/1875 [==============================] - 6s 3ms/step - loss: 0.1379 - sparse_categorical_accuracy: 0.9582 - val_loss: 0.2594 - val_sparse_categorical_accuracy: 0.9193\n"
          ]
        }
      ],
      "source": [
        "history=model.fit(X_train, y_train, epochs = 10,validation_data=(X_test, y_test))"
      ]
    },
    {
      "cell_type": "code",
      "source": [
        "from matplotlib import pyplot as plt\n",
        "epoch_range=range(1, 11)\n",
        "plt.plot(epoch_range, history.history['sparse_categorical_accuracy'])\n",
        "plt.plot(epoch_range, history.history['val_sparse_categorical_accuracy'])\n",
        "plt.title('Model Accuracy')\n",
        "plt.ylabel('val Accuracy')\n",
        "plt.xlabel('Epoch')\n",
        "plt.legend(['train','val'], loc='upper left')\n",
        "plt.show()"
      ],
      "metadata": {
        "id": "ADOF-hbviqYr",
        "colab": {
          "base_uri": "https://localhost:8080/",
          "height": 295
        },
        "outputId": "a4424f43-d971-4b4a-d442-bd2f5bac5e0d"
      },
      "execution_count": 24,
      "outputs": [
        {
          "output_type": "display_data",
          "data": {
            "text/plain": [
              "<Figure size 432x288 with 1 Axes>"
            ],
            "image/png": "[encoded data removed]"
          },
          "metadata": {
            "needs_background": "light"
          }
        }
      ]
    },
    {
      "cell_type": "code",
      "execution_count": 25,
      "metadata": {
        "id": "tRkLTwD3Ut92",
        "colab": {
          "base_uri": "https://localhost:8080/"
        },
        "outputId": "33002998-d1f2-45c3-d562-c3960eb2c76c"
      },
      "outputs": [
        {
          "output_type": "stream",
          "name": "stdout",
          "text": [
            "313/313 [==============================] - 1s 2ms/step - loss: 0.2594 - sparse_categorical_accuracy: 0.9193\n",
            "0.9193000197410583\n"
          ]
        }
      ],
      "source": [
        "test_loss, test_acc = model.evaluate(X_test, y_test)\n",
        "print(test_acc)"
      ]
    },
    {
      "cell_type": "code",
      "execution_count": 26,
      "metadata": {
        "id": "xU0qyNfwUt92"
      },
      "outputs": [],
      "source": [
        "from sklearn.metrics import accuracy_score"
      ]
    },
    {
      "cell_type": "code",
      "execution_count": 27,
      "metadata": {
        "id": "STautkreUt93"
      },
      "outputs": [],
      "source": [
        "y_pred = model.predict(X_test)"
      ]
    },
    {
      "cell_type": "code",
      "execution_count": 28,
      "metadata": {
        "id": "JBpnibyXUt93",
        "colab": {
          "base_uri": "https://localhost:8080/"
        },
        "outputId": "cb64bb6d-deb6-4a0f-d663-fe4be31b34f7"
      },
      "outputs": [
        {
          "output_type": "execute_result",
          "data": {
            "text/plain": [
              "array([[1.7101354e-05, 2.1243151e-05, 9.3779108e-06, ..., 5.2491034e-04,\n",
              "        1.4318249e-05, 9.9931049e-01],\n",
              "       [3.8365601e-05, 1.4203734e-09, 9.9995124e-01, ..., 6.6167679e-08,\n",
              "        8.5375005e-09, 2.5336268e-08],\n",
              "       [1.6133097e-07, 9.9999988e-01, 4.8355440e-09, ..., 2.2146564e-11,\n",
              "        7.3899940e-09, 3.1377909e-10],\n",
              "       ...,\n",
              "       [3.1036776e-05, 1.5871117e-06, 3.6821302e-06, ..., 1.0158411e-05,\n",
              "        9.9961013e-01, 1.1318485e-05],\n",
              "       [7.7632372e-08, 9.9999940e-01, 4.7360867e-08, ..., 2.0223032e-10,\n",
              "        7.7271251e-10, 2.2810058e-08],\n",
              "       [1.7894087e-03, 2.4040029e-03, 7.9570627e-03, ..., 2.9149172e-01,\n",
              "        1.5482994e-02, 5.4826606e-03]], dtype=float32)"
            ]
          },
          "metadata": {},
          "execution_count": 28
        }
      ],
      "source": [
        "y_pred"
      ]
    },
    {
      "cell_type": "code",
      "execution_count": 29,
      "metadata": {
        "id": "ZV1uF_AYUt93",
        "colab": {
          "base_uri": "https://localhost:8080/"
        },
        "outputId": "c8f54072-13f7-4e7f-fe0b-337aacd9ce65"
      },
      "outputs": [
        {
          "output_type": "execute_result",
          "data": {
            "text/plain": [
              "array([1.7101354e-05, 2.1243151e-05, 9.3779108e-06, 8.0208638e-06,\n",
              "       8.7023227e-06, 7.5288735e-05, 1.0586126e-05, 5.2491034e-04,\n",
              "       1.4318249e-05, 9.9931049e-01], dtype=float32)"
            ]
          },
          "metadata": {},
          "execution_count": 29
        }
      ],
      "source": [
        "y_pred[0]"
      ]
    },
    {
      "cell_type": "code",
      "execution_count": 30,
      "metadata": {
        "id": "AjKn9wVjUt94",
        "colab": {
          "base_uri": "https://localhost:8080/"
        },
        "outputId": "b0e55fd1-8bdf-4c40-e7fa-f43e3bf3b0e7"
      },
      "outputs": [
        {
          "output_type": "execute_result",
          "data": {
            "text/plain": [
              "['top',\n",
              " 'trouser',\n",
              " 'pullover',\n",
              " 'dress',\n",
              " 'coat',\n",
              " 'sandal',\n",
              " 'shirt',\n",
              " 'sneaker',\n",
              " 'bag',\n",
              " 'ankle boot']"
            ]
          },
          "metadata": {},
          "execution_count": 30
        }
      ],
      "source": [
        "class_names"
      ]
    },
    {
      "cell_type": "code",
      "execution_count": 31,
      "metadata": {
        "id": "5zVA9AoeUt94",
        "colab": {
          "base_uri": "https://localhost:8080/"
        },
        "outputId": "f73eeb15-3e5d-47e8-c56f-383f7d5a20e4"
      },
      "outputs": [
        {
          "output_type": "execute_result",
          "data": {
            "text/plain": [
              "9"
            ]
          },
          "metadata": {},
          "execution_count": 31
        }
      ],
      "source": [
        "np.argmax(y_pred[0])"
      ]
    },
    {
      "cell_type": "code",
      "execution_count": 32,
      "metadata": {
        "id": "dQzBMuatUt94",
        "colab": {
          "base_uri": "https://localhost:8080/",
          "height": 286
        },
        "outputId": "e09f9a6b-9884-46b9-f0e8-ce88ff47629d"
      },
      "outputs": [
        {
          "output_type": "execute_result",
          "data": {
            "text/plain": [
              "<matplotlib.colorbar.Colorbar at 0x7fabfe3a17d0>"
            ]
          },
          "metadata": {},
          "execution_count": 32
        },
        {
          "output_type": "display_data",
          "data": {
            "text/plain": [
              "<Figure size 432x288 with 2 Axes>"
            ],
            "image/png": "[encoded data removed]"
          },
          "metadata": {
            "needs_background": "light"
          }
        }
      ],
      "source": [
        "plt.figure()\n",
        "plt.imshow(X_test[0])\n",
        "plt.colorbar()"
      ]
    },
    {
      "cell_type": "code",
      "execution_count": 33,
      "metadata": {
        "id": "EOx1_NTmUt95",
        "colab": {
          "base_uri": "https://localhost:8080/"
        },
        "outputId": "1a58b9b1-33de-4b13-ae5a-44a94a50a8cb"
      },
      "outputs": [
        {
          "output_type": "execute_result",
          "data": {
            "text/plain": [
              "array([3.8365601e-05, 1.4203734e-09, 9.9995124e-01, 5.2589246e-07,\n",
              "       9.6676958e-06, 6.2068950e-09, 2.0077390e-07, 6.6167679e-08,\n",
              "       8.5375005e-09, 2.5336268e-08], dtype=float32)"
            ]
          },
          "metadata": {},
          "execution_count": 33
        }
      ],
      "source": [
        "y_pred[1]"
      ]
    },
    {
      "cell_type": "code",
      "execution_count": 34,
      "metadata": {
        "id": "6U3yUcu-Ut95",
        "colab": {
          "base_uri": "https://localhost:8080/"
        },
        "outputId": "a8b13778-0319-46ee-969d-fefd2af1ee04"
      },
      "outputs": [
        {
          "output_type": "execute_result",
          "data": {
            "text/plain": [
              "2"
            ]
          },
          "metadata": {},
          "execution_count": 34
        }
      ],
      "source": [
        "np.argmax(y_pred[1])"
      ]
    }
  ],
  "metadata": {
    "colab": {
      "collapsed_sections": [
        "MhoQ0WE77laV"
      ],
      "provenance": [],
      "include_colab_link": true
    },
    "kernelspec": {
      "display_name": "Python 3",
      "language": "python",
      "name": "python3"
    },
    "language_info": {
      "codemirror_mode": {
        "name": "ipython",
        "version": 3
      },
      "file_extension": ".py",
      "mimetype": "text/x-python",
      "name": "python",
      "nbconvert_exporter": "python",
      "pygments_lexer": "ipython3",
      "version": "3.7.4"
    },
    "accelerator": "GPU"
  },
  "nbformat": 4,
  "nbformat_minor": 0
}