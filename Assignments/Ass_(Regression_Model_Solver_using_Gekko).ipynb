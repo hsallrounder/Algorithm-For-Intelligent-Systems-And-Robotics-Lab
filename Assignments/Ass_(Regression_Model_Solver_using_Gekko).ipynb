{
  "nbformat": 4,
  "nbformat_minor": 0,
  "metadata": {
    "colab": {
      "name": "Ass.(Regression Model Solver using Gekko).ipynb",
      "provenance": []
    },
    "kernelspec": {
      "name": "python3",
      "display_name": "Python 3"
    },
    "language_info": {
      "name": "python"
    }
  },
  "cells": [
    {
      "cell_type": "code",
      "execution_count": null,
      "metadata": {
        "colab": {
          "base_uri": "https://localhost:8080/"
        },
        "id": "2D9kgwU8Egpt",
        "outputId": "27d4f54a-32b6-43e4-ab1a-e3bde335213c"
      },
      "outputs": [
        {
          "output_type": "stream",
          "name": "stdout",
          "text": [
            "Collecting gekko\n",
            "  Downloading gekko-1.0.2-py3-none-any.whl (12.4 MB)\n",
            "\u001b[K     |████████████████████████████████| 12.4 MB 3.9 MB/s \n",
            "\u001b[?25hRequirement already satisfied: numpy>=1.8 in /usr/local/lib/python3.7/dist-packages (from gekko) (1.21.6)\n",
            "Installing collected packages: gekko\n",
            "Successfully installed gekko-1.0.2\n"
          ]
        }
      ],
      "source": [
        "!pip install gekko"
      ]
    },
    {
      "cell_type": "code",
      "source": [
        "import numpy as np\n",
        "from gekko import GEKKO\n",
        "import matplotlib.pyplot as plt\n",
        "%matplotlib inline"
      ],
      "metadata": {
        "id": "9B0JCeW_Ephn"
      },
      "execution_count": null,
      "outputs": []
    },
    {
      "cell_type": "markdown",
      "source": [
        "# **Linear and Polynomial Regression**"
      ],
      "metadata": {
        "id": "DgdLRMYcE2QH"
      }
    },
    {
      "cell_type": "code",
      "source": [
        "xm = np.array([0,1,2,3,4,5])\n",
        "ym = np.array([0.1,0.2,0.3,0.5,0.8,2.0])\n",
        "\n",
        "#### Solution\n",
        "from gekko import Gekko\n",
        "m = GEKKO()\n",
        "m.options.IMODE=2\n",
        "m.options.EV_TYPE=1\n",
        "# coefficients\n",
        "c = [m.FV(value=0) for i in range(4)]\n",
        "x = m.Param(value=xm)\n",
        "y = m.CV(value=ym)\n",
        "y.FSTATUS = 1\n",
        "# polynomial model\n",
        "m.Equation(y==c[0]+c[1]*x+c[2]*x**2+c[3]*x**3)\n",
        "\n",
        "# linear regression\n",
        "c[0].STATUS=1\n",
        "c[1].STATUS=1\n",
        "m.solve(disp=False)\n",
        "p1 = [c[1].value[0],c[0].value[0]]\n",
        "\n",
        "# quadratic\n",
        "c[2].STATUS=1\n",
        "m.solve(disp=False)\n",
        "p2 = [c[2].value[0],c[1].value[0],c[0].value[0]]\n",
        "\n",
        "# cubic\n",
        "c[3].STATUS=1\n",
        "m.solve(disp=False)\n",
        "p3 = [c[3].value[0],c[2].value[0],c[1].value[0],c[0].value[0]]\n",
        "\n",
        "# plot fit\n",
        "plt.plot(xm,ym,'ko',markersize=10)\n",
        "xp = np.linspace(0,5,100)\n",
        "plt.plot(xp,np.polyval(p1,xp),'b--',linewidth=2)\n",
        "plt.plot(xp,np.polyval(p2,xp),'r--',linewidth=3)\n",
        "plt.plot(xp,np.polyval(p3,xp),'g:',linewidth=2)\n",
        "plt.legend(['Data','Linear','Quadratic','Cubic'],loc='best')\n",
        "plt.xlabel('x')\n",
        "plt.ylabel('y')\n",
        "print(p1)"
      ],
      "metadata": {
        "colab": {
          "base_uri": "https://localhost:8080/",
          "height": 296
        },
        "id": "HenAzKPFE0Uu",
        "outputId": "30136863-4c67-4331-9c55-d1ea2f12e277"
      },
      "execution_count": null,
      "outputs": [
        {
          "output_type": "stream",
          "name": "stdout",
          "text": [
            "[0.19999999995, 9.7190732222e-11]\n"
          ]
        },
        {
          "output_type": "display_data",
          "data": {
            "text/plain": [
              "<Figure size 432x288 with 1 Axes>"
            ],
            "image/png": "[encoded data removed]"
          },
          "metadata": {
            "needs_background": "light"
          }
        }
      ]
    },
    {
      "cell_type": "markdown",
      "source": [
        "# **Nonlinear Regression**"
      ],
      "metadata": {
        "id": "7EszfO2OKgvi"
      }
    },
    {
      "cell_type": "code",
      "source": [
        "# measurements\n",
        "xm = np.array([0,1,2,3,4,5])\n",
        "ym = np.array([0.1,0.2,0.3,0.5,0.8,2.0])\n",
        "\n",
        "# GEKKO model\n",
        "m = GEKKO()\n",
        "\n",
        "# parameters\n",
        "x = m.Param(value=xm)\n",
        "a = m.FV()\n",
        "a.STATUS=1\n",
        "\n",
        "# variables\n",
        "y = m.CV(value=ym)\n",
        "y.FSTATUS=1\n",
        "\n",
        "# regression equation\n",
        "m.Equation(y==0.1*m.exp(a*x))\n",
        "\n",
        "# regression mode\n",
        "m.options.IMODE = 2\n",
        "\n",
        "# optimize\n",
        "m.solve(disp=False)\n",
        "\n",
        "# print parameters\n",
        "print('Optimized, a = ' + str(a.value[0]))\n",
        "\n",
        "plt.plot(xm,ym,'bo')\n",
        "plt.plot(xm,y.value,'r-')"
      ],
      "metadata": {
        "colab": {
          "base_uri": "https://localhost:8080/",
          "height": 300
        },
        "id": "oTFKucJlKgO4",
        "outputId": "0515b25b-08b3-40ee-cb4d-cccfd7f7e1f3"
      },
      "execution_count": null,
      "outputs": [
        {
          "output_type": "stream",
          "name": "stdout",
          "text": [
            "Optimized, a = 0.59909644843\n"
          ]
        },
        {
          "output_type": "execute_result",
          "data": {
            "text/plain": [
              "[<matplotlib.lines.Line2D at 0x7f035c818750>]"
            ]
          },
          "metadata": {},
          "execution_count": 4
        },
        {
          "output_type": "display_data",
          "data": {
            "text/plain": [
              "<Figure size 432x288 with 1 Axes>"
            ],
            "image/png": "[encoded data removed]"
          },
          "metadata": {
            "needs_background": "light"
          }
        }
      ]
    }
  ]
}