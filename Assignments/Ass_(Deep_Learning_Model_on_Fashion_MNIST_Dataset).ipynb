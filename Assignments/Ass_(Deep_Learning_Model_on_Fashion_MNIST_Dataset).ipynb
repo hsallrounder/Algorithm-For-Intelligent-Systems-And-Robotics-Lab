{
  "cells": [
    {
      "cell_type": "code",
      "source": [
        "import tensorflow as tf\n",
        "from tensorflow import keras"
      ],
      "metadata": {
        "id": "Qj8Gc7DuEtkU"
      },
      "execution_count": 1,
      "outputs": []
    },
    {
      "cell_type": "code",
      "execution_count": 2,
      "metadata": {
        "id": "TWI6-r7RUt9n",
        "colab": {
          "base_uri": "https://localhost:8080/"
        },
        "outputId": "f3d52534-e662-4589-d0ba-eebd21a61a18"
      },
      "outputs": [
        {
          "output_type": "stream",
          "name": "stdout",
          "text": [
            "2.8.0\n"
          ]
        }
      ],
      "source": [
        "print(tf.__version__)"
      ]
    },
    {
      "cell_type": "code",
      "execution_count": 3,
      "metadata": {
        "id": "5aD0UlYlUt9o"
      },
      "outputs": [],
      "source": [
        "import numpy as np\n",
        "import pandas as pd\n",
        "import matplotlib.pyplot as plt"
      ]
    },
    {
      "cell_type": "code",
      "execution_count": 4,
      "metadata": {
        "id": "pikWNiW5Ut9p"
      },
      "outputs": [],
      "source": [
        "mnist = keras.datasets.fashion_mnist"
      ]
    },
    {
      "cell_type": "code",
      "execution_count": 5,
      "metadata": {
        "id": "C3wvFJ8IUt9q",
        "colab": {
          "base_uri": "https://localhost:8080/"
        },
        "outputId": "e6d67b5e-eccb-4f60-fe9c-3ae549a40a11"
      },
      "outputs": [
        {
          "output_type": "execute_result",
          "data": {
            "text/plain": [
              "module"
            ]
          },
          "metadata": {},
          "execution_count": 5
        }
      ],
      "source": [
        "type(mnist)"
      ]
    },
    {
      "cell_type": "code",
      "execution_count": 6,
      "metadata": {
        "id": "gwMXZorYUt9r",
        "colab": {
          "base_uri": "https://localhost:8080/"
        },
        "outputId": "78ae3677-7904-4350-d91d-196f23f3b94d"
      },
      "outputs": [
        {
          "output_type": "stream",
          "name": "stdout",
          "text": [
            "Downloading data from https://storage.googleapis.com/tensorflow/tf-keras-datasets/train-labels-idx1-ubyte.gz\n",
            "32768/29515 [=================================] - 0s 0us/step\n",
            "40960/29515 [=========================================] - 0s 0us/step\n",
            "Downloading data from https://storage.googleapis.com/tensorflow/tf-keras-datasets/train-images-idx3-ubyte.gz\n",
            "26427392/26421880 [==============================] - 1s 0us/step\n",
            "26435584/26421880 [==============================] - 1s 0us/step\n",
            "Downloading data from https://storage.googleapis.com/tensorflow/tf-keras-datasets/t10k-labels-idx1-ubyte.gz\n",
            "16384/5148 [===============================================================================================] - 0s 0us/step\n",
            "Downloading data from https://storage.googleapis.com/tensorflow/tf-keras-datasets/t10k-images-idx3-ubyte.gz\n",
            "4423680/4422102 [==============================] - 0s 0us/step\n",
            "4431872/4422102 [==============================] - 0s 0us/step\n"
          ]
        }
      ],
      "source": [
        "(X_train, y_train), (X_test, y_test) = mnist.load_data()"
      ]
    },
    {
      "cell_type": "code",
      "execution_count": 7,
      "metadata": {
        "id": "0ksg7XwtUt9s",
        "colab": {
          "base_uri": "https://localhost:8080/"
        },
        "outputId": "ab0cd17d-ede3-482f-872a-fd807073b543"
      },
      "outputs": [
        {
          "output_type": "execute_result",
          "data": {
            "text/plain": [
              "((60000, 28, 28), (60000,))"
            ]
          },
          "metadata": {},
          "execution_count": 7
        }
      ],
      "source": [
        "X_train.shape, y_train.shape"
      ]
    },
    {
      "cell_type": "code",
      "execution_count": 8,
      "metadata": {
        "id": "ydnmsKpnUt9t",
        "colab": {
          "base_uri": "https://localhost:8080/"
        },
        "outputId": "89bd247f-f484-467e-81eb-39ecad1ec8d1"
      },
      "outputs": [
        {
          "output_type": "execute_result",
          "data": {
            "text/plain": [
              "255"
            ]
          },
          "metadata": {},
          "execution_count": 8
        }
      ],
      "source": [
        "np.max(X_train)"
      ]
    },
    {
      "cell_type": "code",
      "execution_count": 9,
      "metadata": {
        "id": "ty4Y6yWoUt9u",
        "colab": {
          "base_uri": "https://localhost:8080/"
        },
        "outputId": "af28ea6c-e3aa-4549-c81b-99c7a1cc93d4"
      },
      "outputs": [
        {
          "output_type": "execute_result",
          "data": {
            "text/plain": [
              "72.94035223214286"
            ]
          },
          "metadata": {},
          "execution_count": 9
        }
      ],
      "source": [
        "np.mean(X_train)"
      ]
    },
    {
      "cell_type": "code",
      "execution_count": 10,
      "metadata": {
        "id": "9XVvk-Q5Ut9u",
        "colab": {
          "base_uri": "https://localhost:8080/"
        },
        "outputId": "135937ff-695d-4f92-a2d9-1a3f2c5a6c77"
      },
      "outputs": [
        {
          "output_type": "execute_result",
          "data": {
            "text/plain": [
              "array([9, 0, 0, ..., 3, 0, 5], dtype=uint8)"
            ]
          },
          "metadata": {},
          "execution_count": 10
        }
      ],
      "source": [
        "y_train"
      ]
    },
    {
      "cell_type": "code",
      "execution_count": 11,
      "metadata": {
        "id": "UAexm50KUt9v"
      },
      "outputs": [],
      "source": [
        "class_names = ['top', 'trouser', 'pullover', 'dress', 'coat', 'sandal', 'shirt', 'sneaker', 'bag', 'ankle boot']"
      ]
    },
    {
      "cell_type": "markdown",
      "metadata": {
        "id": "eaBIp5NvUt9w"
      },
      "source": [
        "#### Data Exploration"
      ]
    },
    {
      "cell_type": "code",
      "execution_count": 12,
      "metadata": {
        "id": "JOg8cJKKUt9x",
        "colab": {
          "base_uri": "https://localhost:8080/"
        },
        "outputId": "8bcdeb28-4ef4-43ec-ae54-9755f4a2dcb3"
      },
      "outputs": [
        {
          "output_type": "execute_result",
          "data": {
            "text/plain": [
              "(60000, 28, 28)"
            ]
          },
          "metadata": {},
          "execution_count": 12
        }
      ],
      "source": [
        "X_train.shape"
      ]
    },
    {
      "cell_type": "code",
      "execution_count": 13,
      "metadata": {
        "id": "VciTfGrCUt9x",
        "colab": {
          "base_uri": "https://localhost:8080/"
        },
        "outputId": "6f423c58-bedf-40f2-be59-bf2c4e579e47"
      },
      "outputs": [
        {
          "output_type": "execute_result",
          "data": {
            "text/plain": [
              "(10000, 28, 28)"
            ]
          },
          "metadata": {},
          "execution_count": 13
        }
      ],
      "source": [
        "X_test.shape"
      ]
    },
    {
      "cell_type": "code",
      "execution_count": 14,
      "metadata": {
        "id": "g2PNVgj1Ut9y",
        "colab": {
          "base_uri": "https://localhost:8080/",
          "height": 282
        },
        "outputId": "ed9ba4d3-4469-46c3-9805-e40a9ce2784a"
      },
      "outputs": [
        {
          "output_type": "execute_result",
          "data": {
            "text/plain": [
              "<matplotlib.colorbar.Colorbar at 0x7fe6760f6f50>"
            ]
          },
          "metadata": {},
          "execution_count": 14
        },
        {
          "output_type": "display_data",
          "data": {
            "text/plain": [
              "<Figure size 432x288 with 2 Axes>"
            ],
            "image/png": "[encoded data removed]"
          },
          "metadata": {
            "needs_background": "light"
          }
        }
      ],
      "source": [
        "plt.figure()\n",
        "plt.imshow(X_train[1])\n",
        "plt.colorbar()"
      ]
    },
    {
      "cell_type": "code",
      "execution_count": 15,
      "metadata": {
        "id": "tavXmJC_Ut9z",
        "colab": {
          "base_uri": "https://localhost:8080/"
        },
        "outputId": "1625a402-bc20-4098-f4fe-456f8fa317a2"
      },
      "outputs": [
        {
          "output_type": "execute_result",
          "data": {
            "text/plain": [
              "array([9, 0, 0, ..., 3, 0, 5], dtype=uint8)"
            ]
          },
          "metadata": {},
          "execution_count": 15
        }
      ],
      "source": [
        "y_train"
      ]
    },
    {
      "cell_type": "code",
      "execution_count": 16,
      "metadata": {
        "id": "hxhtQWXFUt9z"
      },
      "outputs": [],
      "source": [
        "X_train = X_train/255.0"
      ]
    },
    {
      "cell_type": "code",
      "execution_count": 17,
      "metadata": {
        "id": "spiLk8DZUt9z"
      },
      "outputs": [],
      "source": [
        "X_test = X_test/255.0"
      ]
    },
    {
      "cell_type": "code",
      "execution_count": 18,
      "metadata": {
        "id": "cQw3_blrUt90",
        "colab": {
          "base_uri": "https://localhost:8080/",
          "height": 286
        },
        "outputId": "9b609389-2359-4545-8dfa-b1e1f90b4596"
      },
      "outputs": [
        {
          "output_type": "execute_result",
          "data": {
            "text/plain": [
              "<matplotlib.colorbar.Colorbar at 0x7fe675bcb650>"
            ]
          },
          "metadata": {},
          "execution_count": 18
        },
        {
          "output_type": "display_data",
          "data": {
            "text/plain": [
              "<Figure size 432x288 with 2 Axes>"
            ],
            "image/png": "[encoded data removed]"
          },
          "metadata": {
            "needs_background": "light"
          }
        }
      ],
      "source": [
        "plt.figure()\n",
        "plt.imshow(X_train[1])\n",
        "plt.colorbar()"
      ]
    },
    {
      "cell_type": "markdown",
      "metadata": {
        "id": "pfHOUIRKUt90"
      },
      "source": [
        "### Build the model with TF 2.0 "
      ]
    },
    {
      "cell_type": "code",
      "execution_count": 19,
      "metadata": {
        "id": "u8XVbcU8Ut90"
      },
      "outputs": [],
      "source": [
        "from tensorflow.keras import Sequential\n",
        "from tensorflow.keras.layers import Flatten, Dense"
      ]
    },
    {
      "cell_type": "code",
      "execution_count": 20,
      "metadata": {
        "id": "xdtiyEw-Ut90"
      },
      "outputs": [],
      "source": [
        "model = Sequential()\n",
        "model.add(Flatten(input_shape = (28, 28)))\n",
        "model.add(Dense(128, activation = 'relu'))\n",
        "model.add(Dense(10, activation = 'softmax'))"
      ]
    },
    {
      "cell_type": "code",
      "execution_count": 21,
      "metadata": {
        "id": "jveoEZKhUt91",
        "colab": {
          "base_uri": "https://localhost:8080/"
        },
        "outputId": "44878ab3-ed02-4988-af2c-cf7ad5228178"
      },
      "outputs": [
        {
          "output_type": "stream",
          "name": "stdout",
          "text": [
            "Model: \"sequential\"\n",
            "_________________________________________________________________\n",
            " Layer (type)                Output Shape              Param #   \n",
            "=================================================================\n",
            " flatten (Flatten)           (None, 784)               0         \n",
            "                                                                 \n",
            " dense (Dense)               (None, 128)               100480    \n",
            "                                                                 \n",
            " dense_1 (Dense)             (None, 10)                1290      \n",
            "                                                                 \n",
            "=================================================================\n",
            "Total params: 101,770\n",
            "Trainable params: 101,770\n",
            "Non-trainable params: 0\n",
            "_________________________________________________________________\n"
          ]
        }
      ],
      "source": [
        "model.summary()"
      ]
    },
    {
      "cell_type": "code",
      "execution_count": 22,
      "metadata": {
        "id": "QTnxwFcOUt91"
      },
      "outputs": [],
      "source": [
        "model.compile(optimizer='adam',loss='sparse_categorical_crossentropy', metrics = ['accuracy'])"
      ]
    },
    {
      "cell_type": "code",
      "execution_count": 23,
      "metadata": {
        "id": "9YDsaG3XUt92",
        "colab": {
          "base_uri": "https://localhost:8080/"
        },
        "outputId": "f7a6a5f2-3a0e-4f68-fc85-547cd3b23fb1"
      },
      "outputs": [
        {
          "output_type": "stream",
          "name": "stdout",
          "text": [
            "Epoch 1/10\n",
            "1875/1875 [==============================] - 9s 3ms/step - loss: 0.4977 - accuracy: 0.8243\n",
            "Epoch 2/10\n",
            "1875/1875 [==============================] - 4s 2ms/step - loss: 0.3750 - accuracy: 0.8643\n",
            "Epoch 3/10\n",
            "1875/1875 [==============================] - 4s 2ms/step - loss: 0.3366 - accuracy: 0.8769\n",
            "Epoch 4/10\n",
            "1875/1875 [==============================] - 4s 2ms/step - loss: 0.3136 - accuracy: 0.8841\n",
            "Epoch 5/10\n",
            "1875/1875 [==============================] - 4s 2ms/step - loss: 0.2968 - accuracy: 0.8905\n",
            "Epoch 6/10\n",
            "1875/1875 [==============================] - 4s 2ms/step - loss: 0.2800 - accuracy: 0.8963\n",
            "Epoch 7/10\n",
            "1875/1875 [==============================] - 4s 2ms/step - loss: 0.2672 - accuracy: 0.9014\n",
            "Epoch 8/10\n",
            "1875/1875 [==============================] - 4s 2ms/step - loss: 0.2575 - accuracy: 0.9035\n",
            "Epoch 9/10\n",
            "1875/1875 [==============================] - 4s 2ms/step - loss: 0.2488 - accuracy: 0.9065\n",
            "Epoch 10/10\n",
            "1875/1875 [==============================] - 4s 2ms/step - loss: 0.2386 - accuracy: 0.9101\n"
          ]
        },
        {
          "output_type": "execute_result",
          "data": {
            "text/plain": [
              "<keras.callbacks.History at 0x7fe5f81ffe10>"
            ]
          },
          "metadata": {},
          "execution_count": 23
        }
      ],
      "source": [
        "model.fit(X_train, y_train, epochs = 10)"
      ]
    },
    {
      "cell_type": "code",
      "execution_count": 24,
      "metadata": {
        "id": "tRkLTwD3Ut92",
        "colab": {
          "base_uri": "https://localhost:8080/"
        },
        "outputId": "a21dc66e-9569-4b87-a844-fb73277541da"
      },
      "outputs": [
        {
          "output_type": "stream",
          "name": "stdout",
          "text": [
            "313/313 [==============================] - 1s 2ms/step - loss: 0.3264 - accuracy: 0.8828\n",
            "0.8827999830245972\n"
          ]
        }
      ],
      "source": [
        "test_loss, test_acc = model.evaluate(X_test, y_test)\n",
        "print(test_acc)"
      ]
    },
    {
      "cell_type": "code",
      "execution_count": 25,
      "metadata": {
        "id": "xU0qyNfwUt92"
      },
      "outputs": [],
      "source": [
        "from sklearn.metrics import accuracy_score"
      ]
    },
    {
      "cell_type": "code",
      "execution_count": 26,
      "metadata": {
        "id": "STautkreUt93"
      },
      "outputs": [],
      "source": [
        "y_pred = model.predict(X_test)"
      ]
    },
    {
      "cell_type": "code",
      "execution_count": 27,
      "metadata": {
        "id": "JBpnibyXUt93",
        "colab": {
          "base_uri": "https://localhost:8080/"
        },
        "outputId": "1629dca4-71e0-4839-db51-035aad0a65be"
      },
      "outputs": [
        {
          "output_type": "execute_result",
          "data": {
            "text/plain": [
              "array([[1.5211165e-06, 4.8490967e-09, 1.5753255e-09, ..., 2.0178175e-02,\n",
              "        2.9321236e-06, 9.7965115e-01],\n",
              "       [5.1242805e-05, 4.2679852e-13, 9.9932456e-01, ..., 5.4689606e-15,\n",
              "        1.8897108e-09, 5.7435143e-11],\n",
              "       [8.3790583e-09, 1.0000000e+00, 1.0821997e-13, ..., 6.0455658e-28,\n",
              "        7.5895271e-12, 1.9255529e-21],\n",
              "       ...,\n",
              "       [3.5003439e-05, 1.7134698e-10, 6.5891218e-05, ..., 1.9788244e-09,\n",
              "        9.9986541e-01, 4.5252860e-11],\n",
              "       [3.0462881e-09, 9.9999869e-01, 4.2445894e-11, ..., 4.3534817e-16,\n",
              "        2.0811784e-10, 3.9566393e-12],\n",
              "       [2.8546043e-05, 8.7022780e-09, 3.8328312e-06, ..., 1.1378334e-02,\n",
              "        4.3886525e-05, 1.2956820e-05]], dtype=float32)"
            ]
          },
          "metadata": {},
          "execution_count": 27
        }
      ],
      "source": [
        "y_pred"
      ]
    },
    {
      "cell_type": "code",
      "execution_count": 28,
      "metadata": {
        "id": "ZV1uF_AYUt93",
        "colab": {
          "base_uri": "https://localhost:8080/"
        },
        "outputId": "b3e29622-c11f-45d8-9eb6-6f87fb630327"
      },
      "outputs": [
        {
          "output_type": "execute_result",
          "data": {
            "text/plain": [
              "array([1.5211165e-06, 4.8490967e-09, 1.5753255e-09, 6.3889520e-09,\n",
              "       1.0603057e-09, 1.6549793e-04, 6.7691428e-07, 2.0178175e-02,\n",
              "       2.9321236e-06, 9.7965115e-01], dtype=float32)"
            ]
          },
          "metadata": {},
          "execution_count": 28
        }
      ],
      "source": [
        "y_pred[0]"
      ]
    },
    {
      "cell_type": "code",
      "execution_count": 29,
      "metadata": {
        "id": "AjKn9wVjUt94",
        "colab": {
          "base_uri": "https://localhost:8080/"
        },
        "outputId": "caea3772-8d3a-473b-ce69-c21a057c9a93"
      },
      "outputs": [
        {
          "output_type": "execute_result",
          "data": {
            "text/plain": [
              "['top',\n",
              " 'trouser',\n",
              " 'pullover',\n",
              " 'dress',\n",
              " 'coat',\n",
              " 'sandal',\n",
              " 'shirt',\n",
              " 'sneaker',\n",
              " 'bag',\n",
              " 'ankle boot']"
            ]
          },
          "metadata": {},
          "execution_count": 29
        }
      ],
      "source": [
        "class_names"
      ]
    },
    {
      "cell_type": "code",
      "execution_count": 30,
      "metadata": {
        "id": "5zVA9AoeUt94",
        "colab": {
          "base_uri": "https://localhost:8080/"
        },
        "outputId": "92f2ddac-9d4b-43f7-f737-28828472250f"
      },
      "outputs": [
        {
          "output_type": "execute_result",
          "data": {
            "text/plain": [
              "9"
            ]
          },
          "metadata": {},
          "execution_count": 30
        }
      ],
      "source": [
        "np.argmax(y_pred[0])"
      ]
    },
    {
      "cell_type": "code",
      "execution_count": 31,
      "metadata": {
        "id": "dQzBMuatUt94",
        "colab": {
          "base_uri": "https://localhost:8080/",
          "height": 286
        },
        "outputId": "f4cfb60d-0abe-46bc-f773-026db9a10af7"
      },
      "outputs": [
        {
          "output_type": "execute_result",
          "data": {
            "text/plain": [
              "<matplotlib.colorbar.Colorbar at 0x7fe5d129d790>"
            ]
          },
          "metadata": {},
          "execution_count": 31
        },
        {
          "output_type": "display_data",
          "data": {
            "text/plain": [
              "<Figure size 432x288 with 2 Axes>"
            ],
            "image/png": "[encoded data removed]"
          },
          "metadata": {
            "needs_background": "light"
          }
        }
      ],
      "source": [
        "plt.figure()\n",
        "plt.imshow(X_test[0])\n",
        "plt.colorbar()"
      ]
    },
    {
      "cell_type": "code",
      "source": [
        "model.compile(optimizer='adam',loss='sparse_categorical_crossentropy', metrics = ['accuracy'])"
      ],
      "metadata": {
        "id": "mKfUJsNV3ibK"
      },
      "execution_count": 32,
      "outputs": []
    },
    {
      "cell_type": "code",
      "source": [
        "history=model.fit(X_train, y_train, batch_size=10, epochs=10, validation_data=(X_test, y_test))"
      ],
      "metadata": {
        "id": "5BipeV4c7Axg",
        "colab": {
          "base_uri": "https://localhost:8080/"
        },
        "outputId": "7b1555c6-6209-47ed-d0aa-cf72d5bed3fa"
      },
      "execution_count": 33,
      "outputs": [
        {
          "output_type": "stream",
          "name": "stdout",
          "text": [
            "Epoch 1/10\n",
            "6000/6000 [==============================] - 15s 2ms/step - loss: 0.2689 - accuracy: 0.9000 - val_loss: 0.3627 - val_accuracy: 0.8810\n",
            "Epoch 2/10\n",
            "6000/6000 [==============================] - 15s 3ms/step - loss: 0.2615 - accuracy: 0.9018 - val_loss: 0.3578 - val_accuracy: 0.8768\n",
            "Epoch 3/10\n",
            "6000/6000 [==============================] - 13s 2ms/step - loss: 0.2501 - accuracy: 0.9062 - val_loss: 0.3889 - val_accuracy: 0.8681\n",
            "Epoch 4/10\n",
            "6000/6000 [==============================] - 15s 2ms/step - loss: 0.2435 - accuracy: 0.9098 - val_loss: 0.3560 - val_accuracy: 0.8827\n",
            "Epoch 5/10\n",
            "6000/6000 [==============================] - 15s 2ms/step - loss: 0.2331 - accuracy: 0.9118 - val_loss: 0.3599 - val_accuracy: 0.8793\n",
            "Epoch 6/10\n",
            "6000/6000 [==============================] - 14s 2ms/step - loss: 0.2269 - accuracy: 0.9143 - val_loss: 0.3652 - val_accuracy: 0.8792\n",
            "Epoch 7/10\n",
            "6000/6000 [==============================] - 14s 2ms/step - loss: 0.2233 - accuracy: 0.9168 - val_loss: 0.3616 - val_accuracy: 0.8796\n",
            "Epoch 8/10\n",
            "6000/6000 [==============================] - 15s 2ms/step - loss: 0.2140 - accuracy: 0.9198 - val_loss: 0.3576 - val_accuracy: 0.8823\n",
            "Epoch 9/10\n",
            "6000/6000 [==============================] - 15s 2ms/step - loss: 0.2107 - accuracy: 0.9220 - val_loss: 0.3631 - val_accuracy: 0.8825\n",
            "Epoch 10/10\n",
            "6000/6000 [==============================] - 15s 2ms/step - loss: 0.2060 - accuracy: 0.9241 - val_loss: 0.3562 - val_accuracy: 0.8883\n"
          ]
        }
      ]
    },
    {
      "cell_type": "code",
      "source": [
        "plt.plot(history.history['accuracy'])\n",
        "plt.plot(history.history['val_accuracy'])\n",
        "plt.title('Model Accuracy')\n",
        "plt.ylabel('Accuracy')\n",
        "plt.xlabel('epochs')\n",
        "plt.legend(['train', 'test'], loc='upper left')\n",
        "plt.show()"
      ],
      "metadata": {
        "colab": {
          "base_uri": "https://localhost:8080/",
          "height": 295
        },
        "id": "KMQFcCC4Bj0f",
        "outputId": "d4175f5d-6558-4f0b-c508-96ebca0b8aea"
      },
      "execution_count": 34,
      "outputs": [
        {
          "output_type": "display_data",
          "data": {
            "text/plain": [
              "<Figure size 432x288 with 1 Axes>"
            ],
            "image/png": "[encoded data removed]"
          },
          "metadata": {
            "needs_background": "light"
          }
        }
      ]
    },
    {
      "cell_type": "code",
      "source": [
        "plt.plot(history.history['loss'])\n",
        "plt.plot(history.history['val_loss'])\n",
        "plt.title('Model Loss')\n",
        "plt.ylabel('Loss')\n",
        "plt.xlabel('epochs')\n",
        "plt.legend(['train', 'test'], loc='upper left')\n",
        "plt.show()"
      ],
      "metadata": {
        "colab": {
          "base_uri": "https://localhost:8080/",
          "height": 295
        },
        "id": "tgya6ziRBlNe",
        "outputId": "cb1844ee-0761-4dc3-e90f-b804bcb746c5"
      },
      "execution_count": 35,
      "outputs": [
        {
          "output_type": "display_data",
          "data": {
            "text/plain": [
              "<Figure size 432x288 with 1 Axes>"
            ],
            "image/png": "[encoded data removed]"
          },
          "metadata": {
            "needs_background": "light"
          }
        }
      ]
    },
    {
      "cell_type": "markdown",
      "source": [
        "**Applying Regularizers**"
      ],
      "metadata": {
        "id": "So5EH8YLIDNO"
      }
    },
    {
      "cell_type": "code",
      "source": [
        "from keras import regularizers\n",
        "reg = Sequential()\n",
        "reg.add(Flatten(input_shape = (28, 28)))\n",
        "reg.add(Dense(128, activation = 'relu'))\n",
        "reg.add(Dense(64, activation = 'relu',kernel_regularizer=regularizers.l1(0.01),activity_regularizer=regularizers.l2(0.01)))\n",
        "reg.add(Dense(10, activation = 'softmax'))"
      ],
      "metadata": {
        "id": "xGd9ALPLDa1G"
      },
      "execution_count": 36,
      "outputs": []
    },
    {
      "cell_type": "code",
      "source": [
        "reg.compile(optimizer='adam',loss='sparse_categorical_crossentropy', metrics = ['accuracy'])"
      ],
      "metadata": {
        "id": "Y84R0PmqyDkz"
      },
      "execution_count": 37,
      "outputs": []
    },
    {
      "cell_type": "code",
      "source": [
        "history_new=reg.fit(X_train, y_train, batch_size=10, epochs=10, validation_data=(X_test, y_test))"
      ],
      "metadata": {
        "id": "iZwZAkiSFQjE",
        "colab": {
          "base_uri": "https://localhost:8080/"
        },
        "outputId": "e39f834f-727c-49fa-8e34-e00550333776"
      },
      "execution_count": 38,
      "outputs": [
        {
          "output_type": "stream",
          "name": "stdout",
          "text": [
            "Epoch 1/10\n",
            "6000/6000 [==============================] - 17s 3ms/step - loss: 0.6656 - accuracy: 0.8273 - val_loss: 0.5455 - val_accuracy: 0.8271\n",
            "Epoch 2/10\n",
            "6000/6000 [==============================] - 15s 2ms/step - loss: 0.4559 - accuracy: 0.8630 - val_loss: 0.4713 - val_accuracy: 0.8543\n",
            "Epoch 3/10\n",
            "6000/6000 [==============================] - 16s 3ms/step - loss: 0.4131 - accuracy: 0.8724 - val_loss: 0.4297 - val_accuracy: 0.8652\n",
            "Epoch 4/10\n",
            "6000/6000 [==============================] - 15s 2ms/step - loss: 0.3869 - accuracy: 0.8808 - val_loss: 0.4253 - val_accuracy: 0.8636\n",
            "Epoch 5/10\n",
            "6000/6000 [==============================] - 15s 2ms/step - loss: 0.3679 - accuracy: 0.8866 - val_loss: 0.4141 - val_accuracy: 0.8725\n",
            "Epoch 6/10\n",
            "6000/6000 [==============================] - 15s 2ms/step - loss: 0.3539 - accuracy: 0.8908 - val_loss: 0.4070 - val_accuracy: 0.8703\n",
            "Epoch 7/10\n",
            "6000/6000 [==============================] - 16s 3ms/step - loss: 0.3426 - accuracy: 0.8922 - val_loss: 0.4196 - val_accuracy: 0.8694\n",
            "Epoch 8/10\n",
            "6000/6000 [==============================] - 15s 2ms/step - loss: 0.3335 - accuracy: 0.8952 - val_loss: 0.3908 - val_accuracy: 0.8758\n",
            "Epoch 9/10\n",
            "6000/6000 [==============================] - 15s 2ms/step - loss: 0.3246 - accuracy: 0.8976 - val_loss: 0.4424 - val_accuracy: 0.8605\n",
            "Epoch 10/10\n",
            "6000/6000 [==============================] - 16s 3ms/step - loss: 0.3169 - accuracy: 0.8996 - val_loss: 0.4054 - val_accuracy: 0.8699\n"
          ]
        }
      ]
    },
    {
      "cell_type": "code",
      "source": [
        "plt.plot(history_new.history['accuracy'])\n",
        "plt.plot(history_new.history['val_accuracy'])\n",
        "plt.title('Model Accuracy')\n",
        "plt.ylabel('Accuracy')\n",
        "plt.xlabel('epochs')\n",
        "plt.legend(['train', 'test'], loc='upper left')\n",
        "plt.show()"
      ],
      "metadata": {
        "colab": {
          "base_uri": "https://localhost:8080/",
          "height": 295
        },
        "id": "ldV1eA14EC5O",
        "outputId": "6f59dc71-4778-43ee-b4d4-a8e6dd54a27b"
      },
      "execution_count": 39,
      "outputs": [
        {
          "output_type": "display_data",
          "data": {
            "text/plain": [
              "<Figure size 432x288 with 1 Axes>"
            ],
            "image/png": "[encoded data removed]"
          },
          "metadata": {
            "needs_background": "light"
          }
        }
      ]
    },
    {
      "cell_type": "code",
      "source": [
        "plt.plot(history_new.history['loss'])\n",
        "plt.plot(history_new.history['val_loss'])\n",
        "plt.title('Model Loss')\n",
        "plt.ylabel('Loss')\n",
        "plt.xlabel('epochs')\n",
        "plt.legend(['train', 'test'], loc='upper left')\n",
        "plt.show()"
      ],
      "metadata": {
        "colab": {
          "base_uri": "https://localhost:8080/",
          "height": 295
        },
        "id": "f8YwDlFIF7t-",
        "outputId": "e2f90baf-1db3-4a3f-9412-44e0246cca56"
      },
      "execution_count": 40,
      "outputs": [
        {
          "output_type": "display_data",
          "data": {
            "text/plain": [
              "<Figure size 432x288 with 1 Axes>"
            ],
            "image/png": "[encoded data removed]"
          },
          "metadata": {
            "needs_background": "light"
          }
        }
      ]
    }
  ],
  "metadata": {
    "colab": {
      "collapsed_sections": [],
      "name": "Ass.(Deep Learning Model on Fashion_MNIST Dataset).ipynb",
      "provenance": []
    },
    "kernelspec": {
      "display_name": "Python 3",
      "language": "python",
      "name": "python3"
    },
    "language_info": {
      "codemirror_mode": {
        "name": "ipython",
        "version": 3
      },
      "file_extension": ".py",
      "mimetype": "text/x-python",
      "name": "python",
      "nbconvert_exporter": "python",
      "pygments_lexer": "ipython3",
      "version": "3.7.4"
    },
    "accelerator": "GPU"
  },
  "nbformat": 4,
  "nbformat_minor": 0
}